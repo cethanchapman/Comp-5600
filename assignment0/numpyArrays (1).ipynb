{
  "nbformat": 4,
  "nbformat_minor": 0,
  "metadata": {
    "colab": {
      "provenance": []
    },
    "kernelspec": {
      "name": "python3",
      "display_name": "Python 3"
    },
    "language_info": {
      "name": "python"
    }
  },
  "cells": [
    {
      "cell_type": "code",
      "execution_count": 18,
      "metadata": {
        "colab": {
          "base_uri": "https://localhost:8080/"
        },
        "id": "HQt3SL0TwTb6",
        "outputId": "82c5d3b5-c27a-41f7-b004-0e5e9e523430"
      },
      "outputs": [
        {
          "output_type": "stream",
          "name": "stdout",
          "text": [
            "1D Array:  [[0.46942877 0.88610497 0.10930695 0.85237997 0.22379971]]\n"
          ]
        }
      ],
      "source": [
        "# Ethan Chapman\n",
        "# Assignment 0 Problem 1:\n",
        "\n",
        "import numpy as np\n",
        "\n",
        "array_1d = np.random.uniform(low = 0.0, high = 1.0, size = (1, 5))\n",
        "print(\"1D Array: \", array_1d)"
      ]
    },
    {
      "cell_type": "code",
      "source": [
        "mean = np.mean(array_1d)\n",
        "std_dev = np.std(array_1d)\n",
        "print(\"1D Array Mean: \", mean)\n",
        "print(\"1D Array Standard Deviation: \", std_dev)"
      ],
      "metadata": {
        "colab": {
          "base_uri": "https://localhost:8080/"
        },
        "id": "5IZ-dxMbxMYl",
        "outputId": "b1705fd3-7d1b-4683-a509-10c052156016"
      },
      "execution_count": 19,
      "outputs": [
        {
          "output_type": "stream",
          "name": "stdout",
          "text": [
            "1D Array Mean:  0.5082040756245029\n",
            "1D Array Standard Deviation:  0.3171039015332296\n"
          ]
        }
      ]
    },
    {
      "cell_type": "code",
      "source": [
        "array_2d = array_1d.reshape(5, 1)\n",
        "print(\"2D Array (5x1) Reshaped: \\n\", array_2d)\n"
      ],
      "metadata": {
        "colab": {
          "base_uri": "https://localhost:8080/"
        },
        "id": "4K-UYXA9yNg0",
        "outputId": "57ffdcb9-7848-4ad4-a750-988b7d0d7ac4"
      },
      "execution_count": 20,
      "outputs": [
        {
          "output_type": "stream",
          "name": "stdout",
          "text": [
            "2D Array (5x1) Reshaped: \n",
            " [[0.46942877]\n",
            " [0.88610497]\n",
            " [0.10930695]\n",
            " [0.85237997]\n",
            " [0.22379971]]\n"
          ]
        }
      ]
    },
    {
      "cell_type": "code",
      "source": [
        "array_add = array_2d + 5\n",
        "print(\"Array with 5 added to each element: \\n\", array_add)\n"
      ],
      "metadata": {
        "colab": {
          "base_uri": "https://localhost:8080/"
        },
        "id": "tt1QbZ26zfBD",
        "outputId": "8f39fbf5-b629-42b2-f986-dc0683dc415b"
      },
      "execution_count": 21,
      "outputs": [
        {
          "output_type": "stream",
          "name": "stdout",
          "text": [
            "Array with 5 added to each element: \n",
            " [[5.46942877]\n",
            " [5.88610497]\n",
            " [5.10930695]\n",
            " [5.85237997]\n",
            " [5.22379971]]\n"
          ]
        }
      ]
    },
    {
      "cell_type": "code",
      "source": [
        "dp_array = np.dot(array_add.T, array_add)\n",
        "print(\"Dot product of the reshaped array with itself: \\n\", dp_array)"
      ],
      "metadata": {
        "colab": {
          "base_uri": "https://localhost:8080/"
        },
        "id": "w_fIob4s0R2a",
        "outputId": "f1c479bd-c711-41f4-eca2-7b48892c3fc0"
      },
      "execution_count": 23,
      "outputs": [
        {
          "output_type": "stream",
          "name": "stdout",
          "text": [
            "Dot product of the reshaped array with itself: \n",
            " [[152.20433512]]\n"
          ]
        }
      ]
    }
  ]
}